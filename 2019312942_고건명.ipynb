{
  "nbformat": 4,
  "nbformat_minor": 0,
  "metadata": {
    "colab": {
      "provenance": [],
      "gpuType": "T4"
    },
    "kernelspec": {
      "name": "python3",
      "display_name": "Python 3"
    },
    "language_info": {
      "name": "python"
    },
    "accelerator": "GPU"
  },
  "cells": [
    {
      "cell_type": "code",
      "execution_count": null,
      "metadata": {
        "id": "YUWaQFFTyocv"
      },
      "outputs": [],
      "source": [
        "def isHappy(n):\n",
        "  cycle = set()\n",
        "  cycle.add(n)\n",
        "  num = n\n",
        "\n",
        "  while True:\n",
        "    sum = 0\n",
        "\n",
        "    while(num != 0):\n",
        "      sum += int((num % 10) ** 2)\n",
        "      num = int(num/10)\n",
        "\n",
        "    if sum == 1:\n",
        "      return True\n",
        "    if sum in cycle:\n",
        "      return False\n",
        "\n",
        "    cycle.add(sum)\n",
        "    num = sum\n",
        "\n",
        "a, b, n = input().split()\n",
        "n = int(n)\n",
        "print(isHappy(n))"
      ]
    },
    {
      "cell_type": "markdown",
      "source": [],
      "metadata": {
        "id": "7mNijSIzIdCB"
      }
    }
  ]
}